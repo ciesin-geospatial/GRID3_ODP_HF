{
 "cells": [
  {
   "cell_type": "markdown",
   "metadata": {},
   "source": [
    "### Import the Automatic Type Extraction function"
   ]
  },
  {
   "cell_type": "code",
   "execution_count": null,
   "metadata": {},
   "outputs": [],
   "source": [
    "from extract_types import *\n",
    "from util import *"
   ]
  },
  {
   "cell_type": "markdown",
   "metadata": {},
   "source": [
    "### Prepare the WHO Sub-saharan Dataset "
   ]
  },
  {
   "cell_type": "code",
   "execution_count": null,
   "metadata": {},
   "outputs": [],
   "source": [
    "import pandas as pd\n",
    "import numpy as np\n",
    "from tabulate import tabulate\n",
    "df = pd.read_csv('data/sub-saharan_health_facilities.csv')\n",
    "df = df.rename(columns = {'Facility n':'name','Facility t':'given_type'})\n",
    "df['orig_name'] = df['name'].copy()\n",
    "df['name'] = df['name'].apply(lambda x: np.nan if x.strip() == '' else x)\n",
    "df = df.dropna(subset=['name']).copy()\n",
    "df['name'] = df['name'].apply(clean_string)\n",
    "df['given_type'] = df['given_type'].apply(clean_string)"
   ]
  },
  {
   "cell_type": "markdown",
   "metadata": {},
   "source": [
    "### Demonstrate the Results from Common Bottom-up Approach"
   ]
  },
  {
   "cell_type": "code",
   "execution_count": null,
   "metadata": {},
   "outputs": [],
   "source": [
    "name_list = df.sample(frac=0.1,random_state=0).loc[:, 'name'].tolist()\n",
    "from sklearn.feature_extraction.text import CountVectorizer\n",
    "count_vectorizer = CountVectorizer(ngram_range=(1, 5))\n",
    "ngram_sparse_matrix = count_vectorizer.fit_transform(name_list)\n",
    "vocabulary = count_vectorizer.vocabulary_\n",
    "ngram_counts = ngram_sparse_matrix.toarray().sum(axis=0)\n",
    "ngram_freq_with_sklearn = sorted([(k,round(ngram_counts[i]/(len(df)*0.1),3),ngram_counts[i]) for k,i in vocabulary.items()], key = lambda x: -x[-1])\n",
    "print(tabulate(ngram_freq_with_sklearn[:18], headers=['Type', 'Proportion', 'Count'], tablefmt='fancy_grid'))"
   ]
  },
  {
   "cell_type": "markdown",
   "metadata": {},
   "source": [
    "### Run the proposed function on the Nature Dataset"
   ]
  },
  {
   "cell_type": "code",
   "execution_count": null,
   "metadata": {
    "scrolled": false
   },
   "outputs": [],
   "source": [
    "# Get the unique countries in the dataset\n",
    "list_of_countries = df['Country'].unique().tolist()\n",
    "\n",
    "# Build a dictionary where entry key is the name of the country, \n",
    "# entry value is the list of health facility types in that country\n",
    "country_and_common_facility_types = {}\n",
    "\n",
    "# Iterate through all the unique countries\n",
    "for country_name in list_of_countries:\n",
    "    \n",
    "\n",
    "    # Get the part of the data that belongs to this country \n",
    "    print('Country: ',country_name,'\\n')\n",
    "    country_part = df.loc[df['Country']== country_name, 'name'].tolist()\n",
    "    \n",
    "    common_facility_types_in_this_country = extract_types(country_part, return_proportion = True)\n",
    "    \n",
    "    country_and_common_facility_types[country_name] = common_facility_types_in_this_country\n",
    "    \n",
    "    print(tabulate(common_facility_types_in_this_country, headers=['Type', 'Proportion', 'Count'], tablefmt='fancy_grid'))\n",
    "    \n",
    "    print('\\n-------------------------------------------------------------------------------------\\n')"
   ]
  },
  {
   "cell_type": "code",
   "execution_count": null,
   "metadata": {},
   "outputs": [],
   "source": [
    "# Format the results from the common phrases finding process to a DataFrame\n",
    "result_df = pd.DataFrame(country_and_common_facility_types.items(),columns=['Country','Type']).explode('Type')\n",
    "result_df[['Type','Proportion within Country','Count']] = pd.DataFrame(result_df['Type'].tolist(), index = result_df.index)\n",
    "result_df = result_df.sort_values(['Country','Proportion within Country'], ascending=[True, False]).reset_index(drop=True)"
   ]
  },
  {
   "cell_type": "markdown",
   "metadata": {},
   "source": [
    "During the Google Search process, take notes of the special abbreviation:\n",
    "\n",
    "- RCH : Reproductive Child Health\n",
    "- GFPA : Gambia Family Planning Association\n",
    "- AIC : Africa Inland Church\n",
    "- SDA : Seventh Day Adventist\n",
    "- PHC : Primary Health Care\n",
    "- FOSACOM : Formation Sanitaire Communautaire\n",
    "- OPD : Out-Patient Department\n",
    "- SRCS : Somali Red Crescent Society\n",
    "- CHC : Community Health Center\n",
    "- RC : Red Cross\n",
    "- ACK : Anglican Church of Kenya\n",
    "- UVS : Unites Villageoises de Sante"
   ]
  }
 ],
 "metadata": {
  "kernelspec": {
   "display_name": "Python 3",
   "language": "python",
   "name": "python3"
  },
  "language_info": {
   "codemirror_mode": {
    "name": "ipython",
    "version": 3
   },
   "file_extension": ".py",
   "mimetype": "text/x-python",
   "name": "python",
   "nbconvert_exporter": "python",
   "pygments_lexer": "ipython3",
   "version": "3.6.10"
  }
 },
 "nbformat": 4,
 "nbformat_minor": 4
}
